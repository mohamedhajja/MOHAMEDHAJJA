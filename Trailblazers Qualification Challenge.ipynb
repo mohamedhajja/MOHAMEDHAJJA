{
  "nbformat": 4,
  "nbformat_minor": 0,
  "metadata": {
    "colab": {
      "provenance": [],
      "collapsed_sections": [
        "SfXcUTmzRflP"
      ],
      "authorship_tag": "ABX9TyPeC5ejWJgwZmqTOmbL7jd2",
      "include_colab_link": true
    },
    "kernelspec": {
      "name": "python3",
      "display_name": "Python 3"
    },
    "language_info": {
      "name": "python"
    }
  },
  "cells": [
    {
      "cell_type": "markdown",
      "metadata": {
        "id": "view-in-github",
        "colab_type": "text"
      },
      "source": [
        "<a href=\"https://colab.research.google.com/github/mohamedhajja/MOHAMEDHAJJA/blob/main/Trailblazers%20Qualification%20Challenge.ipynb\" target=\"_parent\"><img src=\"https://colab.research.google.com/assets/colab-badge.svg\" alt=\"Open In Colab\"/></a>"
      ]
    },
    {
      "cell_type": "code",
      "execution_count": null,
      "metadata": {
        "id": "G6pZw5zH12H2"
      },
      "outputs": [],
      "source": [
        "import lightgbm as lgb\n",
        "import pandas as pd\n",
        "import numpy as np\n",
        "from sklearn.model_selection import train_test_split\n",
        "from sklearn import metrics\n",
        "from sklearn.metrics import mean_squared_error\n",
        "\n",
        "\n",
        "#import dtale.app as dtale_app\n",
        "\n",
        "#dtale_app.USE_COLAB = True\n",
        "import gc as memory_free\n",
        "\n",
        "\n",
        "\n"
      ]
    },
    {
      "cell_type": "code",
      "source": [
        "from google.colab import drive\n",
        "drive.mount('/content/drive')"
      ],
      "metadata": {
        "colab": {
          "base_uri": "https://localhost:8080/"
        },
        "id": "TDXKEtpj147W",
        "outputId": "c9d25f7e-55bd-4977-85e9-94cf552bc328"
      },
      "execution_count": null,
      "outputs": [
        {
          "output_type": "stream",
          "name": "stdout",
          "text": [
            "Mounted at /content/drive\n"
          ]
        }
      ]
    },
    {
      "cell_type": "markdown",
      "source": [
        "<h1><center> import data </center></h1>"
      ],
      "metadata": {
        "id": "60u9fQf78kYo"
      }
    },
    {
      "cell_type": "code",
      "source": [],
      "metadata": {
        "id": "pIaCiJlu8kEM"
      },
      "execution_count": null,
      "outputs": []
    },
    {
      "cell_type": "code",
      "source": [
        "train_data=pd.read_csv(\"/content/drive/MyDrive/WAICF - Data Challenge.csv\")\n",
        "test_data=pd.read_csv(\"/content/drive/MyDrive/WAICF - Data Challenge (1) test.csv\")"
      ],
      "metadata": {
        "colab": {
          "base_uri": "https://localhost:8080/"
        },
        "id": "swCBjBu82Jxl",
        "outputId": "c6e6f990-b203-443f-dda7-18b8902141e8"
      },
      "execution_count": null,
      "outputs": [
        {
          "output_type": "stream",
          "name": "stderr",
          "text": [
            "/usr/local/lib/python3.7/dist-packages/IPython/core/interactiveshell.py:2882: DtypeWarning: Columns (2,3,4,7) have mixed types.Specify dtype option on import or set low_memory=False.\n",
            "  exec(code_obj, self.user_global_ns, self.user_ns)\n",
            "/usr/local/lib/python3.7/dist-packages/IPython/core/interactiveshell.py:2882: DtypeWarning: Columns (3,4,5,7) have mixed types.Specify dtype option on import or set low_memory=False.\n",
            "  exec(code_obj, self.user_global_ns, self.user_ns)\n"
          ]
        }
      ]
    },
    {
      "cell_type": "code",
      "source": [
        "train_data.head()"
      ],
      "metadata": {
        "colab": {
          "base_uri": "https://localhost:8080/",
          "height": 300
        },
        "id": "Y7Mz34sw4JGA",
        "outputId": "7226c464-88b7-48ed-a1f9-c064597cac14"
      },
      "execution_count": null,
      "outputs": [
        {
          "output_type": "execute_result",
          "data": {
            "text/plain": [
              "    accident_id    year longitude latitude department  accident_type  \\\n",
              "0  x01600000001  2016.0       0.0      0.0        590              1   \n",
              "1  x01600000001  2016.0       0.0      0.0        590              1   \n",
              "2  x01600000001  2016.0       0.0      0.0        590              2   \n",
              "3  x01600000001  2016.0       0.0      0.0        590              2   \n",
              "4  x0160000000x  2016.0       0.0      0.0        590              2   \n",
              "\n",
              "   road_category address_nbr  traffic_type  speed_limitation  ...  \\\n",
              "0            3.0        39.0           2.0               NaN  ...   \n",
              "1            3.0        39.0           2.0               NaN  ...   \n",
              "2            3.0        39.0           2.0               NaN  ...   \n",
              "3            3.0        39.0           2.0               NaN  ...   \n",
              "4            3.0        39.0           1.0               NaN  ...   \n",
              "\n",
              "   road_condition  obstacle_hit_type  person_type  person_sex  vehicule_type  \\\n",
              "0             1.0                0.0          1.0         2.0            7.0   \n",
              "1             1.0                0.0          1.0         2.0            2.0   \n",
              "2             1.0                0.0          1.0         1.0            7.0   \n",
              "3             1.0                0.0          1.0         1.0            2.0   \n",
              "4             1.0                6.0          1.0         1.0            7.0   \n",
              "\n",
              "   principal_maneuver_before_accident  vehicule_motor_type   day  month  \\\n",
              "0                                 1.0                  NaN   1.0    2.0   \n",
              "1                                15.0                  NaN   1.0    2.0   \n",
              "2                                 1.0                  NaN   1.0    2.0   \n",
              "3                                15.0                  NaN   1.0    2.0   \n",
              "4                                 1.0                  NaN  16.0    3.0   \n",
              "\n",
              "   country  \n",
              "0        A  \n",
              "1        A  \n",
              "2        A  \n",
              "3        A  \n",
              "4        A  \n",
              "\n",
              "[5 rows x 24 columns]"
            ],
            "text/html": [
              "\n",
              "  <div id=\"df-a8dada46-34cc-45ad-b084-379f855c8442\">\n",
              "    <div class=\"colab-df-container\">\n",
              "      <div>\n",
              "<style scoped>\n",
              "    .dataframe tbody tr th:only-of-type {\n",
              "        vertical-align: middle;\n",
              "    }\n",
              "\n",
              "    .dataframe tbody tr th {\n",
              "        vertical-align: top;\n",
              "    }\n",
              "\n",
              "    .dataframe thead th {\n",
              "        text-align: right;\n",
              "    }\n",
              "</style>\n",
              "<table border=\"1\" class=\"dataframe\">\n",
              "  <thead>\n",
              "    <tr style=\"text-align: right;\">\n",
              "      <th></th>\n",
              "      <th>accident_id</th>\n",
              "      <th>year</th>\n",
              "      <th>longitude</th>\n",
              "      <th>latitude</th>\n",
              "      <th>department</th>\n",
              "      <th>accident_type</th>\n",
              "      <th>road_category</th>\n",
              "      <th>address_nbr</th>\n",
              "      <th>traffic_type</th>\n",
              "      <th>speed_limitation</th>\n",
              "      <th>...</th>\n",
              "      <th>road_condition</th>\n",
              "      <th>obstacle_hit_type</th>\n",
              "      <th>person_type</th>\n",
              "      <th>person_sex</th>\n",
              "      <th>vehicule_type</th>\n",
              "      <th>principal_maneuver_before_accident</th>\n",
              "      <th>vehicule_motor_type</th>\n",
              "      <th>day</th>\n",
              "      <th>month</th>\n",
              "      <th>country</th>\n",
              "    </tr>\n",
              "  </thead>\n",
              "  <tbody>\n",
              "    <tr>\n",
              "      <th>0</th>\n",
              "      <td>x01600000001</td>\n",
              "      <td>2016.0</td>\n",
              "      <td>0.0</td>\n",
              "      <td>0.0</td>\n",
              "      <td>590</td>\n",
              "      <td>1</td>\n",
              "      <td>3.0</td>\n",
              "      <td>39.0</td>\n",
              "      <td>2.0</td>\n",
              "      <td>NaN</td>\n",
              "      <td>...</td>\n",
              "      <td>1.0</td>\n",
              "      <td>0.0</td>\n",
              "      <td>1.0</td>\n",
              "      <td>2.0</td>\n",
              "      <td>7.0</td>\n",
              "      <td>1.0</td>\n",
              "      <td>NaN</td>\n",
              "      <td>1.0</td>\n",
              "      <td>2.0</td>\n",
              "      <td>A</td>\n",
              "    </tr>\n",
              "    <tr>\n",
              "      <th>1</th>\n",
              "      <td>x01600000001</td>\n",
              "      <td>2016.0</td>\n",
              "      <td>0.0</td>\n",
              "      <td>0.0</td>\n",
              "      <td>590</td>\n",
              "      <td>1</td>\n",
              "      <td>3.0</td>\n",
              "      <td>39.0</td>\n",
              "      <td>2.0</td>\n",
              "      <td>NaN</td>\n",
              "      <td>...</td>\n",
              "      <td>1.0</td>\n",
              "      <td>0.0</td>\n",
              "      <td>1.0</td>\n",
              "      <td>2.0</td>\n",
              "      <td>2.0</td>\n",
              "      <td>15.0</td>\n",
              "      <td>NaN</td>\n",
              "      <td>1.0</td>\n",
              "      <td>2.0</td>\n",
              "      <td>A</td>\n",
              "    </tr>\n",
              "    <tr>\n",
              "      <th>2</th>\n",
              "      <td>x01600000001</td>\n",
              "      <td>2016.0</td>\n",
              "      <td>0.0</td>\n",
              "      <td>0.0</td>\n",
              "      <td>590</td>\n",
              "      <td>2</td>\n",
              "      <td>3.0</td>\n",
              "      <td>39.0</td>\n",
              "      <td>2.0</td>\n",
              "      <td>NaN</td>\n",
              "      <td>...</td>\n",
              "      <td>1.0</td>\n",
              "      <td>0.0</td>\n",
              "      <td>1.0</td>\n",
              "      <td>1.0</td>\n",
              "      <td>7.0</td>\n",
              "      <td>1.0</td>\n",
              "      <td>NaN</td>\n",
              "      <td>1.0</td>\n",
              "      <td>2.0</td>\n",
              "      <td>A</td>\n",
              "    </tr>\n",
              "    <tr>\n",
              "      <th>3</th>\n",
              "      <td>x01600000001</td>\n",
              "      <td>2016.0</td>\n",
              "      <td>0.0</td>\n",
              "      <td>0.0</td>\n",
              "      <td>590</td>\n",
              "      <td>2</td>\n",
              "      <td>3.0</td>\n",
              "      <td>39.0</td>\n",
              "      <td>2.0</td>\n",
              "      <td>NaN</td>\n",
              "      <td>...</td>\n",
              "      <td>1.0</td>\n",
              "      <td>0.0</td>\n",
              "      <td>1.0</td>\n",
              "      <td>1.0</td>\n",
              "      <td>2.0</td>\n",
              "      <td>15.0</td>\n",
              "      <td>NaN</td>\n",
              "      <td>1.0</td>\n",
              "      <td>2.0</td>\n",
              "      <td>A</td>\n",
              "    </tr>\n",
              "    <tr>\n",
              "      <th>4</th>\n",
              "      <td>x0160000000x</td>\n",
              "      <td>2016.0</td>\n",
              "      <td>0.0</td>\n",
              "      <td>0.0</td>\n",
              "      <td>590</td>\n",
              "      <td>2</td>\n",
              "      <td>3.0</td>\n",
              "      <td>39.0</td>\n",
              "      <td>1.0</td>\n",
              "      <td>NaN</td>\n",
              "      <td>...</td>\n",
              "      <td>1.0</td>\n",
              "      <td>6.0</td>\n",
              "      <td>1.0</td>\n",
              "      <td>1.0</td>\n",
              "      <td>7.0</td>\n",
              "      <td>1.0</td>\n",
              "      <td>NaN</td>\n",
              "      <td>16.0</td>\n",
              "      <td>3.0</td>\n",
              "      <td>A</td>\n",
              "    </tr>\n",
              "  </tbody>\n",
              "</table>\n",
              "<p>5 rows × 24 columns</p>\n",
              "</div>\n",
              "      <button class=\"colab-df-convert\" onclick=\"convertToInteractive('df-a8dada46-34cc-45ad-b084-379f855c8442')\"\n",
              "              title=\"Convert this dataframe to an interactive table.\"\n",
              "              style=\"display:none;\">\n",
              "        \n",
              "  <svg xmlns=\"http://www.w3.org/2000/svg\" height=\"24px\"viewBox=\"0 0 24 24\"\n",
              "       width=\"24px\">\n",
              "    <path d=\"M0 0h24v24H0V0z\" fill=\"none\"/>\n",
              "    <path d=\"M18.56 5.44l.94 2.06.94-2.06 2.06-.94-2.06-.94-.94-2.06-.94 2.06-2.06.94zm-11 1L8.5 8.5l.94-2.06 2.06-.94-2.06-.94L8.5 2.5l-.94 2.06-2.06.94zm10 10l.94 2.06.94-2.06 2.06-.94-2.06-.94-.94-2.06-.94 2.06-2.06.94z\"/><path d=\"M17.41 7.96l-1.37-1.37c-.4-.4-.92-.59-1.43-.59-.52 0-1.04.2-1.43.59L10.3 9.45l-7.72 7.72c-.78.78-.78 2.05 0 2.83L4 21.41c.39.39.9.59 1.41.59.51 0 1.02-.2 1.41-.59l7.78-7.78 2.81-2.81c.8-.78.8-2.07 0-2.86zM5.41 20L4 18.59l7.72-7.72 1.47 1.35L5.41 20z\"/>\n",
              "  </svg>\n",
              "      </button>\n",
              "      \n",
              "  <style>\n",
              "    .colab-df-container {\n",
              "      display:flex;\n",
              "      flex-wrap:wrap;\n",
              "      gap: 12px;\n",
              "    }\n",
              "\n",
              "    .colab-df-convert {\n",
              "      background-color: #E8F0FE;\n",
              "      border: none;\n",
              "      border-radius: 50%;\n",
              "      cursor: pointer;\n",
              "      display: none;\n",
              "      fill: #1967D2;\n",
              "      height: 32px;\n",
              "      padding: 0 0 0 0;\n",
              "      width: 32px;\n",
              "    }\n",
              "\n",
              "    .colab-df-convert:hover {\n",
              "      background-color: #E2EBFA;\n",
              "      box-shadow: 0px 1px 2px rgba(60, 64, 67, 0.3), 0px 1px 3px 1px rgba(60, 64, 67, 0.15);\n",
              "      fill: #174EA6;\n",
              "    }\n",
              "\n",
              "    [theme=dark] .colab-df-convert {\n",
              "      background-color: #3B4455;\n",
              "      fill: #D2E3FC;\n",
              "    }\n",
              "\n",
              "    [theme=dark] .colab-df-convert:hover {\n",
              "      background-color: #434B5C;\n",
              "      box-shadow: 0px 1px 3px 1px rgba(0, 0, 0, 0.15);\n",
              "      filter: drop-shadow(0px 1px 2px rgba(0, 0, 0, 0.3));\n",
              "      fill: #FFFFFF;\n",
              "    }\n",
              "  </style>\n",
              "\n",
              "      <script>\n",
              "        const buttonEl =\n",
              "          document.querySelector('#df-a8dada46-34cc-45ad-b084-379f855c8442 button.colab-df-convert');\n",
              "        buttonEl.style.display =\n",
              "          google.colab.kernel.accessAllowed ? 'block' : 'none';\n",
              "\n",
              "        async function convertToInteractive(key) {\n",
              "          const element = document.querySelector('#df-a8dada46-34cc-45ad-b084-379f855c8442');\n",
              "          const dataTable =\n",
              "            await google.colab.kernel.invokeFunction('convertToInteractive',\n",
              "                                                     [key], {});\n",
              "          if (!dataTable) return;\n",
              "\n",
              "          const docLinkHtml = 'Like what you see? Visit the ' +\n",
              "            '<a target=\"_blank\" href=https://colab.research.google.com/notebooks/data_table.ipynb>data table notebook</a>'\n",
              "            + ' to learn more about interactive tables.';\n",
              "          element.innerHTML = '';\n",
              "          dataTable['output_type'] = 'display_data';\n",
              "          await google.colab.output.renderOutput(dataTable, element);\n",
              "          const docLink = document.createElement('div');\n",
              "          docLink.innerHTML = docLinkHtml;\n",
              "          element.appendChild(docLink);\n",
              "        }\n",
              "      </script>\n",
              "    </div>\n",
              "  </div>\n",
              "  "
            ]
          },
          "metadata": {},
          "execution_count": 4
        }
      ]
    },
    {
      "cell_type": "markdown",
      "source": [
        "<h1><center> replace ,</center></h1>"
      ],
      "metadata": {
        "id": "682BpJNC8vk0"
      }
    },
    {
      "cell_type": "code",
      "source": [
        "train_data[['longitude','latitude']]= train_data[['longitude','latitude']].replace(',','.',regex=True).astype(float)\n",
        "test_data[['longitude','latitude']]= test_data[['longitude','latitude']].replace(',','.',regex=True).astype(float)"
      ],
      "metadata": {
        "id": "EcwZ16T62Rh_"
      },
      "execution_count": null,
      "outputs": []
    },
    {
      "cell_type": "markdown",
      "source": [
        "<h1><center> drop_duplicates</center></h1>"
      ],
      "metadata": {
        "id": "-nJR3HIF82jD"
      }
    },
    {
      "cell_type": "code",
      "source": [
        "train_data=train_data.drop_duplicates()"
      ],
      "metadata": {
        "id": "TYSbMuvH2Rba"
      },
      "execution_count": null,
      "outputs": []
    },
    {
      "cell_type": "markdown",
      "source": [
        "\n",
        "<h1><center> drop 'accident_id','address_nbr'</center></h1>"
      ],
      "metadata": {
        "id": "nx-hot5u8-mE"
      }
    },
    {
      "cell_type": "code",
      "execution_count": null,
      "metadata": {
        "id": "HWGt8D3WP5lC"
      },
      "outputs": [],
      "source": [
        "test_data.drop(['accident_id','address_nbr'], axis = 1, inplace = True) "
      ]
    },
    {
      "cell_type": "code",
      "execution_count": null,
      "metadata": {
        "id": "bZHer7AiQyPy"
      },
      "outputs": [],
      "source": [
        "train_data.drop(['accident_id','address_nbr'], axis = 1, inplace = True) "
      ]
    },
    {
      "cell_type": "markdown",
      "metadata": {
        "id": "bjC2xTqcSWmh"
      },
      "source": [
        "#### .\n",
        "\n",
        "\n",
        "<h1><center> replase values of country col</center></h1>"
      ]
    },
    {
      "cell_type": "code",
      "execution_count": null,
      "metadata": {
        "id": "ZCV2p2g3FMSj"
      },
      "outputs": [],
      "source": [
        "test_data[\"country\"]=test_data[\"country\"].replace(['A',\"B\"],[1,2])"
      ]
    },
    {
      "cell_type": "code",
      "execution_count": null,
      "metadata": {
        "id": "F6O47joKRCJB"
      },
      "outputs": [],
      "source": [
        "train_data[\"country\"]=train_data[\"country\"].replace(['A',\"B\"],[1,2])"
      ]
    },
    {
      "cell_type": "markdown",
      "metadata": {
        "id": "IGgoY2xBI_BD"
      },
      "source": [
        "\n",
        "<h1><center> replase values of country col</center></h1>"
      ]
    },
    {
      "cell_type": "code",
      "execution_count": null,
      "metadata": {
        "id": "PU0AZtmZjU7f"
      },
      "outputs": [],
      "source": [
        "\n",
        "test_data['speed_limitation'] = test_data['speed_limitation'].replace(['300'],test_data['speed_limitation'].median())\n",
        "\n",
        "test_data['speed_limitation'] = test_data['speed_limitation'].replace(['500'],test_data['speed_limitation'].median())\n"
      ]
    },
    {
      "cell_type": "markdown",
      "source": [
        "\n",
        "  <h1><center> REP_outlier </center></h1>"
      ],
      "metadata": {
        "id": "iu0n0FJB9muM"
      }
    },
    {
      "cell_type": "markdown",
      "source": [
        "test"
      ],
      "metadata": {
        "id": "Hi1U6DdB90g7"
      }
    },
    {
      "cell_type": "code",
      "execution_count": null,
      "metadata": {
        "id": "7pOZEBNDkOze"
      },
      "outputs": [],
      "source": [
        "def REP_out_trin(df):\n",
        "  out_speed_trin=[500, 560, 600, 700, 800]\n",
        "  out_alt_trin=[-508705, -507390, -477113, -477098, -476696, -476502, -476236, -476034, -475770, -475080, -475006, -474791, -474194, -474082, -472974, -472417, -472344, -472229, -472030, -471986, -471956, -471900, -471832, -471795, -470924, -470752, -469843, -469801, -469687, -469619, -469454, -469248, -468991, -468977, -468833, -468639, -468540, -468312, -468056, -467782, -467467, -467166, -467103, -467068, -467055, -467052, -466998, -466987, -466802, -466653, -466339, -466311, -466057, -465834, -465440, -465426, -465366, -465179, -465013, -464805, -464600, -464459, -464320, -464148, -463670, -463652, -463335, -463082, -462951, -462938, -462682, -462641, -462621, -462483, -462296, -462284, -462191, -462065, -462021, -461850, -461827, -461790, -461734, -461539, -461151, -461075, -460753, -460521, -460125, -460051, -460037, -459783, -459561, -459156, -459123, -459114, -458838, -458277, -457894, -457879]\n",
        "  for i in (out_speed_trin):\n",
        "    df['speed_limitation'] = df['speed_limitation'].replace([i],df['speed_limitation'].median())\n",
        "  for j in (out_alt_trin):\n",
        "    df['longitude'] = df['longitude'].replace([j],df['longitude'].median())\n",
        "  return df\n"
      ]
    },
    {
      "cell_type": "code",
      "execution_count": null,
      "metadata": {
        "id": "4ElkhboJkl_2"
      },
      "outputs": [],
      "source": [
        "train_data=REP_out_trin(train_data)"
      ]
    },
    {
      "cell_type": "markdown",
      "source": [
        "trean"
      ],
      "metadata": {
        "id": "rJ3itSHT9zoO"
      }
    },
    {
      "cell_type": "code",
      "execution_count": null,
      "metadata": {
        "id": "xryHQE6VI-Jf"
      },
      "outputs": [],
      "source": [
        "\n",
        "def REP_out(df):\n",
        "\n",
        "  \n",
        "  df['department'] = df['department'].replace([str('2B')],1)\n",
        "  df['department'] = df['department'].replace([str('2A')],1)\n",
        "\n",
        "\n",
        "  return df\n"
      ]
    },
    {
      "cell_type": "code",
      "execution_count": null,
      "metadata": {
        "id": "Kedb-KiBI96Q"
      },
      "outputs": [],
      "source": [
        "train_data=REP_out(train_data)"
      ]
    },
    {
      "cell_type": "code",
      "execution_count": null,
      "metadata": {
        "id": "KzHKnZVjJGOs"
      },
      "outputs": [],
      "source": [
        "test_data=REP_out(test_data)"
      ]
    },
    {
      "cell_type": "markdown",
      "metadata": {
        "id": "u3bY1qsRPlFI"
      },
      "source": [
        "# ,\n",
        "## \n",
        "  <h1><center> replase nun val </center></h1>"
      ]
    },
    {
      "cell_type": "code",
      "execution_count": null,
      "metadata": {
        "id": "IydVkoRZO-nF"
      },
      "outputs": [],
      "source": [
        "def replase_val(df): \n",
        "    for i in(df.columns) :\n",
        "      if (df[i].isna().sum()!=0):\n",
        "\n",
        "          df[i] = df[i].fillna(df[i].median())\n",
        "    return df\n",
        "      \n"
      ]
    },
    {
      "cell_type": "code",
      "execution_count": null,
      "metadata": {
        "id": "mMxEHc1tPU2h"
      },
      "outputs": [],
      "source": [
        "train_data =replase_val(train_data)"
      ]
    },
    {
      "cell_type": "code",
      "execution_count": null,
      "metadata": {
        "id": "Bnz1nbM4basP"
      },
      "outputs": [],
      "source": [
        "test_data =replase_val(test_data)"
      ]
    },
    {
      "cell_type": "markdown",
      "metadata": {
        "id": "S_TNtIgCRUux"
      },
      "source": [
        "# types change"
      ]
    },
    {
      "cell_type": "code",
      "execution_count": null,
      "metadata": {
        "id": "HJnSJBN8AXjv"
      },
      "outputs": [],
      "source": [
        "types_trin={\"department\"     : 'float64',\n",
        "        'year'               :'float64',\n",
        "       'longitude':'float64',\n",
        "       'latitude':'float64',\n",
        "       'accident_type':'int64',\n",
        "       'road_category':'int64',  \n",
        "       'traffic_type':'float64',\n",
        "       'speed_limitation':'float64', \n",
        "       'intersection':'float64', \n",
        "       'pedestrian_localisation':'float64',\n",
        "       'light_condition':'float64', \n",
        "       'weather_conditions':'float64', \n",
        "       'road_condition':'float64', \n",
        "       'obstacle_hit_type':'float64', \n",
        "       'person_type':'int64', \n",
        "       'person_sex':'float64', \n",
        "       'vehicule_type':'float64', \n",
        "       'principal_maneuver_before_accident':'float64',\n",
        "       'vehicule_motor_type':'float64', 'day':'int64',\n",
        "       'month':'int64', 'country':'int64'}"
      ]
    },
    {
      "cell_type": "code",
      "execution_count": null,
      "metadata": {
        "id": "wBmjen7ulpDd"
      },
      "outputs": [],
      "source": [
        "train_data=train_data.astype(types_trin)"
      ]
    },
    {
      "cell_type": "code",
      "execution_count": null,
      "metadata": {
        "id": "renmckF7W4-R"
      },
      "outputs": [],
      "source": [
        "types_test={\"department\"      : 'float64',\n",
        "            'year'            :'float64', \n",
        "            'longitude'       :'float64', \n",
        "            'latitude'        :'float64',\n",
        "            'road_category'   :'int64', \n",
        "            'traffic_type'    :'float64', \n",
        "            'speed_limitation':'float64',\n",
        "            'intersection'    :'float64', \n",
        "            'pedestrian_localisation':'float64', \n",
        "            'light_condition'   :'float64',\n",
        "            'weather_conditions':'float64', \n",
        "            'road_condition'    :'float64',\n",
        "            'obstacle_hit_type' :'float64',\n",
        "            'person_type'       :'int64', \n",
        "            'person_sex'        :'float64', \n",
        "            'vehicule_type'     :'float64', \n",
        "            'principal_maneuver_before_accident':'float64', \n",
        "            'vehicule_motor_type'               :'float64', \n",
        "            'day'                               :'int64',\n",
        "            'month'                             :'int64', \n",
        "            'country'                           :'int64'}"
      ]
    },
    {
      "cell_type": "code",
      "execution_count": null,
      "metadata": {
        "id": "PxMrIymcW0oX"
      },
      "outputs": [],
      "source": [
        "test_data=test_data.astype(types_test)"
      ]
    },
    {
      "cell_type": "markdown",
      "metadata": {
        "id": "SfXcUTmzRflP"
      },
      "source": [
        "# ;"
      ]
    },
    {
      "cell_type": "markdown",
      "metadata": {
        "id": "I4AMGxmyTPIZ"
      },
      "source": [
        "# corelation"
      ]
    },
    {
      "cell_type": "code",
      "execution_count": null,
      "metadata": {
        "id": "lRmtEOj3TMpi"
      },
      "outputs": [],
      "source": []
    },
    {
      "cell_type": "code",
      "execution_count": null,
      "metadata": {
        "colab": {
          "base_uri": "https://localhost:8080/"
        },
        "id": "g4m_9IOZOyBp",
        "outputId": "749cef0c-c2ae-4c5e-c812-de1a9aab2cf4"
      },
      "outputs": [
        {
          "output_type": "execute_result",
          "data": {
            "text/plain": [
              "accident_type                         1.000000\n",
              "obstacle_hit_type                     0.076008\n",
              "person_type                           0.057882\n",
              "latitude                              0.057404\n",
              "speed_limitation                      0.045773\n",
              "department                            0.030440\n",
              "longitude                             0.028633\n",
              "light_condition                       0.022612\n",
              "vehicule_type                         0.017282\n",
              "pedestrian_localisation               0.012402\n",
              "day                                   0.003506\n",
              "month                                 0.000909\n",
              "year                                  0.000662\n",
              "road_condition                       -0.001957\n",
              "weather_conditions                   -0.003921\n",
              "vehicule_motor_type                  -0.012622\n",
              "traffic_type                         -0.022959\n",
              "principal_maneuver_before_accident   -0.032057\n",
              "road_category                        -0.035296\n",
              "intersection                         -0.035534\n",
              "country                              -0.061035\n",
              "person_sex                           -0.066469\n",
              "Name: accident_type, dtype: float64"
            ]
          },
          "metadata": {},
          "execution_count": 26
        }
      ],
      "source": [
        "train_data.corr()['accident_type'].sort_values(ascending=False)"
      ]
    },
    {
      "cell_type": "code",
      "source": [],
      "metadata": {
        "id": "RLEwj7rm2RXU"
      },
      "execution_count": null,
      "outputs": []
    },
    {
      "cell_type": "code",
      "source": [],
      "metadata": {
        "id": "lq9bB4823I8s"
      },
      "execution_count": null,
      "outputs": []
    },
    {
      "cell_type": "code",
      "execution_count": null,
      "metadata": {
        "id": "f1a0e-UWOxfJ"
      },
      "outputs": [],
      "source": [
        "from sklearn.model_selection import train_test_split\n",
        "x= train_data.drop([\"accident_type\"],axis=1)\n",
        "y = train_data.accident_type\n",
        "\n",
        "X_train, X_test, y_train, y_test = train_test_split(x, y, test_size=0.2, random_state=20)"
      ]
    },
    {
      "cell_type": "markdown",
      "metadata": {
        "id": "HmoaUPfg3a7n"
      },
      "source": [
        "# ,\n",
        "## model\n",
        "# ,"
      ]
    },
    {
      "cell_type": "code",
      "source": [
        "cols = X_train.columns"
      ],
      "metadata": {
        "id": "9X-eX4W3L2NC"
      },
      "execution_count": null,
      "outputs": []
    },
    {
      "cell_type": "code",
      "source": [
        "from sklearn.preprocessing import StandardScaler\n",
        "\n",
        "scaler = StandardScaler()\n",
        "\n",
        "X_train = scaler.fit_transform(X_train)\n",
        "\n",
        "X_test = scaler.transform(X_test)\n",
        "X_train = pd.DataFrame(X_train, columns=[cols])\n",
        "X_test = pd.DataFrame(X_test, columns=[cols])\n",
        "X_train.describe()"
      ],
      "metadata": {
        "colab": {
          "base_uri": "https://localhost:8080/",
          "height": 463
        },
        "id": "kMClia3eAjNz",
        "outputId": "4bd0250f-15e5-4fc1-a1eb-9029db1840b4"
      },
      "execution_count": null,
      "outputs": [
        {
          "output_type": "execute_result",
          "data": {
            "text/plain": [
              "               year     longitude      latitude    department road_category  \\\n",
              "count  1.383524e+06  1.383524e+06  1.383524e+06  1.383524e+06  1.383524e+06   \n",
              "mean  -5.875711e-14  2.540737e-16  1.472702e-16  2.480188e-17  1.644984e-15   \n",
              "std    1.000000e+00  1.000000e+00  1.000000e+00  1.000000e+00  1.000000e+00   \n",
              "min   -1.282670e+00 -1.221720e+00 -5.833268e-01 -6.648361e-01 -1.929715e+00   \n",
              "25%   -1.282670e+00 -2.192697e-01 -5.832714e-01 -6.154351e-01 -5.239400e-01   \n",
              "50%   -3.897134e-01 -2.192662e-01 -5.832708e-01 -5.166330e-01 -5.239400e-01   \n",
              "75%    5.032431e-01 -2.192587e-01  1.499598e+00  1.881547e-01  1.789474e-01   \n",
              "max    1.396200e+00  1.412550e+01  2.138021e+00  2.585751e+00  3.693385e+00   \n",
              "\n",
              "       traffic_type speed_limitation  intersection pedestrian_localisation  \\\n",
              "count  1.383524e+06     1.383524e+06  1.383524e+06            1.383524e+06   \n",
              "mean   1.297936e-15     4.008289e-15  9.030952e-16           -2.371228e-15   \n",
              "std    1.000000e+00     1.000000e+00  1.000000e+00            1.000000e+00   \n",
              "min   -2.279593e+00    -2.457140e+00 -6.254785e-01           -1.110270e+00   \n",
              "25%   -8.606312e-01    -5.149028e-01 -2.596400e-01           -1.212094e-01   \n",
              "50%   -3.876441e-01    -5.149028e-01 -2.596400e-01           -1.212094e-01   \n",
              "75%    1.031317e+00     7.381533e-01  1.061984e-01           -1.212094e-01   \n",
              "max    2.450279e+00     5.750378e+00  1.766644e+01            8.780334e+00   \n",
              "\n",
              "      light_condition  ... road_condition obstacle_hit_type   person_type  \\\n",
              "count    1.383524e+06  ...   1.383524e+06      1.383524e+06  1.383524e+06   \n",
              "mean     3.809047e-15  ...  -4.221741e-15      8.819496e-15 -1.818963e-14   \n",
              "std      1.000000e+00  ...   1.000000e+00      1.000000e+00  1.000000e+00   \n",
              "min     -1.835428e+00  ...  -2.830531e+00     -7.020834e-01 -5.373810e-01   \n",
              "25%     -5.851565e-01  ...  -3.623740e-01     -2.118375e-01 -5.373810e-01   \n",
              "50%     -5.851565e-01  ...  -3.623740e-01     -2.118375e-01 -5.373810e-01   \n",
              "75%      6.651146e-01  ...  -3.623740e-01     -2.118375e-01  1.112292e+00   \n",
              "max      3.165657e+00  ...   9.510255e+00      8.122343e+00  4.411638e+00   \n",
              "\n",
              "         person_sex vehicule_type principal_maneuver_before_accident  \\\n",
              "count  1.383524e+06  1.383524e+06                       1.383524e+06   \n",
              "mean   2.923542e-15  2.823766e-15                      -6.344643e-15   \n",
              "std    1.000000e+00  1.000000e+00                       1.000000e+00   \n",
              "min   -4.897292e+00 -1.084846e+00                      -9.795018e-01   \n",
              "25%   -7.283345e-01 -3.519252e-01                      -7.435766e-01   \n",
              "50%   -7.283345e-01 -1.686950e-01                      -3.580090e-02   \n",
              "75%    1.356144e+00 -1.686950e-01                       5.146913e-01   \n",
              "max    1.594750e+01  8.076666e+00                       6.884673e+00   \n",
              "\n",
              "      vehicule_motor_type           day         month       country  \n",
              "count        1.383524e+06  1.383524e+06  1.383524e+06  1.383524e+06  \n",
              "mean        -5.057732e-15 -8.683001e-17 -5.620383e-16 -3.557436e-16  \n",
              "std          1.000000e+00  1.000000e+00  1.000000e+00  1.000000e+00  \n",
              "min         -1.795940e+00 -1.687002e+00 -1.653502e+00 -1.204849e+00  \n",
              "25%         -2.211062e-02 -8.833717e-01 -7.697364e-01 -1.204849e+00  \n",
              "50%         -2.211062e-02  3.506245e-02  1.140295e-01  8.299794e-01  \n",
              "75%         -2.211062e-02  8.386923e-01  9.977953e-01  8.299794e-01  \n",
              "max          9.733949e+00  1.757126e+00  1.586973e+00  8.299794e-01  \n",
              "\n",
              "[8 rows x 21 columns]"
            ],
            "text/html": [
              "\n",
              "  <div id=\"df-de077442-8bca-422d-8e2a-8ed98e098a19\">\n",
              "    <div class=\"colab-df-container\">\n",
              "      <div>\n",
              "<style scoped>\n",
              "    .dataframe tbody tr th:only-of-type {\n",
              "        vertical-align: middle;\n",
              "    }\n",
              "\n",
              "    .dataframe tbody tr th {\n",
              "        vertical-align: top;\n",
              "    }\n",
              "\n",
              "    .dataframe thead tr th {\n",
              "        text-align: left;\n",
              "    }\n",
              "</style>\n",
              "<table border=\"1\" class=\"dataframe\">\n",
              "  <thead>\n",
              "    <tr>\n",
              "      <th></th>\n",
              "      <th>year</th>\n",
              "      <th>longitude</th>\n",
              "      <th>latitude</th>\n",
              "      <th>department</th>\n",
              "      <th>road_category</th>\n",
              "      <th>traffic_type</th>\n",
              "      <th>speed_limitation</th>\n",
              "      <th>intersection</th>\n",
              "      <th>pedestrian_localisation</th>\n",
              "      <th>light_condition</th>\n",
              "      <th>...</th>\n",
              "      <th>road_condition</th>\n",
              "      <th>obstacle_hit_type</th>\n",
              "      <th>person_type</th>\n",
              "      <th>person_sex</th>\n",
              "      <th>vehicule_type</th>\n",
              "      <th>principal_maneuver_before_accident</th>\n",
              "      <th>vehicule_motor_type</th>\n",
              "      <th>day</th>\n",
              "      <th>month</th>\n",
              "      <th>country</th>\n",
              "    </tr>\n",
              "  </thead>\n",
              "  <tbody>\n",
              "    <tr>\n",
              "      <th>count</th>\n",
              "      <td>1.383524e+06</td>\n",
              "      <td>1.383524e+06</td>\n",
              "      <td>1.383524e+06</td>\n",
              "      <td>1.383524e+06</td>\n",
              "      <td>1.383524e+06</td>\n",
              "      <td>1.383524e+06</td>\n",
              "      <td>1.383524e+06</td>\n",
              "      <td>1.383524e+06</td>\n",
              "      <td>1.383524e+06</td>\n",
              "      <td>1.383524e+06</td>\n",
              "      <td>...</td>\n",
              "      <td>1.383524e+06</td>\n",
              "      <td>1.383524e+06</td>\n",
              "      <td>1.383524e+06</td>\n",
              "      <td>1.383524e+06</td>\n",
              "      <td>1.383524e+06</td>\n",
              "      <td>1.383524e+06</td>\n",
              "      <td>1.383524e+06</td>\n",
              "      <td>1.383524e+06</td>\n",
              "      <td>1.383524e+06</td>\n",
              "      <td>1.383524e+06</td>\n",
              "    </tr>\n",
              "    <tr>\n",
              "      <th>mean</th>\n",
              "      <td>-5.875711e-14</td>\n",
              "      <td>2.540737e-16</td>\n",
              "      <td>1.472702e-16</td>\n",
              "      <td>2.480188e-17</td>\n",
              "      <td>1.644984e-15</td>\n",
              "      <td>1.297936e-15</td>\n",
              "      <td>4.008289e-15</td>\n",
              "      <td>9.030952e-16</td>\n",
              "      <td>-2.371228e-15</td>\n",
              "      <td>3.809047e-15</td>\n",
              "      <td>...</td>\n",
              "      <td>-4.221741e-15</td>\n",
              "      <td>8.819496e-15</td>\n",
              "      <td>-1.818963e-14</td>\n",
              "      <td>2.923542e-15</td>\n",
              "      <td>2.823766e-15</td>\n",
              "      <td>-6.344643e-15</td>\n",
              "      <td>-5.057732e-15</td>\n",
              "      <td>-8.683001e-17</td>\n",
              "      <td>-5.620383e-16</td>\n",
              "      <td>-3.557436e-16</td>\n",
              "    </tr>\n",
              "    <tr>\n",
              "      <th>std</th>\n",
              "      <td>1.000000e+00</td>\n",
              "      <td>1.000000e+00</td>\n",
              "      <td>1.000000e+00</td>\n",
              "      <td>1.000000e+00</td>\n",
              "      <td>1.000000e+00</td>\n",
              "      <td>1.000000e+00</td>\n",
              "      <td>1.000000e+00</td>\n",
              "      <td>1.000000e+00</td>\n",
              "      <td>1.000000e+00</td>\n",
              "      <td>1.000000e+00</td>\n",
              "      <td>...</td>\n",
              "      <td>1.000000e+00</td>\n",
              "      <td>1.000000e+00</td>\n",
              "      <td>1.000000e+00</td>\n",
              "      <td>1.000000e+00</td>\n",
              "      <td>1.000000e+00</td>\n",
              "      <td>1.000000e+00</td>\n",
              "      <td>1.000000e+00</td>\n",
              "      <td>1.000000e+00</td>\n",
              "      <td>1.000000e+00</td>\n",
              "      <td>1.000000e+00</td>\n",
              "    </tr>\n",
              "    <tr>\n",
              "      <th>min</th>\n",
              "      <td>-1.282670e+00</td>\n",
              "      <td>-1.221720e+00</td>\n",
              "      <td>-5.833268e-01</td>\n",
              "      <td>-6.648361e-01</td>\n",
              "      <td>-1.929715e+00</td>\n",
              "      <td>-2.279593e+00</td>\n",
              "      <td>-2.457140e+00</td>\n",
              "      <td>-6.254785e-01</td>\n",
              "      <td>-1.110270e+00</td>\n",
              "      <td>-1.835428e+00</td>\n",
              "      <td>...</td>\n",
              "      <td>-2.830531e+00</td>\n",
              "      <td>-7.020834e-01</td>\n",
              "      <td>-5.373810e-01</td>\n",
              "      <td>-4.897292e+00</td>\n",
              "      <td>-1.084846e+00</td>\n",
              "      <td>-9.795018e-01</td>\n",
              "      <td>-1.795940e+00</td>\n",
              "      <td>-1.687002e+00</td>\n",
              "      <td>-1.653502e+00</td>\n",
              "      <td>-1.204849e+00</td>\n",
              "    </tr>\n",
              "    <tr>\n",
              "      <th>25%</th>\n",
              "      <td>-1.282670e+00</td>\n",
              "      <td>-2.192697e-01</td>\n",
              "      <td>-5.832714e-01</td>\n",
              "      <td>-6.154351e-01</td>\n",
              "      <td>-5.239400e-01</td>\n",
              "      <td>-8.606312e-01</td>\n",
              "      <td>-5.149028e-01</td>\n",
              "      <td>-2.596400e-01</td>\n",
              "      <td>-1.212094e-01</td>\n",
              "      <td>-5.851565e-01</td>\n",
              "      <td>...</td>\n",
              "      <td>-3.623740e-01</td>\n",
              "      <td>-2.118375e-01</td>\n",
              "      <td>-5.373810e-01</td>\n",
              "      <td>-7.283345e-01</td>\n",
              "      <td>-3.519252e-01</td>\n",
              "      <td>-7.435766e-01</td>\n",
              "      <td>-2.211062e-02</td>\n",
              "      <td>-8.833717e-01</td>\n",
              "      <td>-7.697364e-01</td>\n",
              "      <td>-1.204849e+00</td>\n",
              "    </tr>\n",
              "    <tr>\n",
              "      <th>50%</th>\n",
              "      <td>-3.897134e-01</td>\n",
              "      <td>-2.192662e-01</td>\n",
              "      <td>-5.832708e-01</td>\n",
              "      <td>-5.166330e-01</td>\n",
              "      <td>-5.239400e-01</td>\n",
              "      <td>-3.876441e-01</td>\n",
              "      <td>-5.149028e-01</td>\n",
              "      <td>-2.596400e-01</td>\n",
              "      <td>-1.212094e-01</td>\n",
              "      <td>-5.851565e-01</td>\n",
              "      <td>...</td>\n",
              "      <td>-3.623740e-01</td>\n",
              "      <td>-2.118375e-01</td>\n",
              "      <td>-5.373810e-01</td>\n",
              "      <td>-7.283345e-01</td>\n",
              "      <td>-1.686950e-01</td>\n",
              "      <td>-3.580090e-02</td>\n",
              "      <td>-2.211062e-02</td>\n",
              "      <td>3.506245e-02</td>\n",
              "      <td>1.140295e-01</td>\n",
              "      <td>8.299794e-01</td>\n",
              "    </tr>\n",
              "    <tr>\n",
              "      <th>75%</th>\n",
              "      <td>5.032431e-01</td>\n",
              "      <td>-2.192587e-01</td>\n",
              "      <td>1.499598e+00</td>\n",
              "      <td>1.881547e-01</td>\n",
              "      <td>1.789474e-01</td>\n",
              "      <td>1.031317e+00</td>\n",
              "      <td>7.381533e-01</td>\n",
              "      <td>1.061984e-01</td>\n",
              "      <td>-1.212094e-01</td>\n",
              "      <td>6.651146e-01</td>\n",
              "      <td>...</td>\n",
              "      <td>-3.623740e-01</td>\n",
              "      <td>-2.118375e-01</td>\n",
              "      <td>1.112292e+00</td>\n",
              "      <td>1.356144e+00</td>\n",
              "      <td>-1.686950e-01</td>\n",
              "      <td>5.146913e-01</td>\n",
              "      <td>-2.211062e-02</td>\n",
              "      <td>8.386923e-01</td>\n",
              "      <td>9.977953e-01</td>\n",
              "      <td>8.299794e-01</td>\n",
              "    </tr>\n",
              "    <tr>\n",
              "      <th>max</th>\n",
              "      <td>1.396200e+00</td>\n",
              "      <td>1.412550e+01</td>\n",
              "      <td>2.138021e+00</td>\n",
              "      <td>2.585751e+00</td>\n",
              "      <td>3.693385e+00</td>\n",
              "      <td>2.450279e+00</td>\n",
              "      <td>5.750378e+00</td>\n",
              "      <td>1.766644e+01</td>\n",
              "      <td>8.780334e+00</td>\n",
              "      <td>3.165657e+00</td>\n",
              "      <td>...</td>\n",
              "      <td>9.510255e+00</td>\n",
              "      <td>8.122343e+00</td>\n",
              "      <td>4.411638e+00</td>\n",
              "      <td>1.594750e+01</td>\n",
              "      <td>8.076666e+00</td>\n",
              "      <td>6.884673e+00</td>\n",
              "      <td>9.733949e+00</td>\n",
              "      <td>1.757126e+00</td>\n",
              "      <td>1.586973e+00</td>\n",
              "      <td>8.299794e-01</td>\n",
              "    </tr>\n",
              "  </tbody>\n",
              "</table>\n",
              "<p>8 rows × 21 columns</p>\n",
              "</div>\n",
              "      <button class=\"colab-df-convert\" onclick=\"convertToInteractive('df-de077442-8bca-422d-8e2a-8ed98e098a19')\"\n",
              "              title=\"Convert this dataframe to an interactive table.\"\n",
              "              style=\"display:none;\">\n",
              "        \n",
              "  <svg xmlns=\"http://www.w3.org/2000/svg\" height=\"24px\"viewBox=\"0 0 24 24\"\n",
              "       width=\"24px\">\n",
              "    <path d=\"M0 0h24v24H0V0z\" fill=\"none\"/>\n",
              "    <path d=\"M18.56 5.44l.94 2.06.94-2.06 2.06-.94-2.06-.94-.94-2.06-.94 2.06-2.06.94zm-11 1L8.5 8.5l.94-2.06 2.06-.94-2.06-.94L8.5 2.5l-.94 2.06-2.06.94zm10 10l.94 2.06.94-2.06 2.06-.94-2.06-.94-.94-2.06-.94 2.06-2.06.94z\"/><path d=\"M17.41 7.96l-1.37-1.37c-.4-.4-.92-.59-1.43-.59-.52 0-1.04.2-1.43.59L10.3 9.45l-7.72 7.72c-.78.78-.78 2.05 0 2.83L4 21.41c.39.39.9.59 1.41.59.51 0 1.02-.2 1.41-.59l7.78-7.78 2.81-2.81c.8-.78.8-2.07 0-2.86zM5.41 20L4 18.59l7.72-7.72 1.47 1.35L5.41 20z\"/>\n",
              "  </svg>\n",
              "      </button>\n",
              "      \n",
              "  <style>\n",
              "    .colab-df-container {\n",
              "      display:flex;\n",
              "      flex-wrap:wrap;\n",
              "      gap: 12px;\n",
              "    }\n",
              "\n",
              "    .colab-df-convert {\n",
              "      background-color: #E8F0FE;\n",
              "      border: none;\n",
              "      border-radius: 50%;\n",
              "      cursor: pointer;\n",
              "      display: none;\n",
              "      fill: #1967D2;\n",
              "      height: 32px;\n",
              "      padding: 0 0 0 0;\n",
              "      width: 32px;\n",
              "    }\n",
              "\n",
              "    .colab-df-convert:hover {\n",
              "      background-color: #E2EBFA;\n",
              "      box-shadow: 0px 1px 2px rgba(60, 64, 67, 0.3), 0px 1px 3px 1px rgba(60, 64, 67, 0.15);\n",
              "      fill: #174EA6;\n",
              "    }\n",
              "\n",
              "    [theme=dark] .colab-df-convert {\n",
              "      background-color: #3B4455;\n",
              "      fill: #D2E3FC;\n",
              "    }\n",
              "\n",
              "    [theme=dark] .colab-df-convert:hover {\n",
              "      background-color: #434B5C;\n",
              "      box-shadow: 0px 1px 3px 1px rgba(0, 0, 0, 0.15);\n",
              "      filter: drop-shadow(0px 1px 2px rgba(0, 0, 0, 0.3));\n",
              "      fill: #FFFFFF;\n",
              "    }\n",
              "  </style>\n",
              "\n",
              "      <script>\n",
              "        const buttonEl =\n",
              "          document.querySelector('#df-de077442-8bca-422d-8e2a-8ed98e098a19 button.colab-df-convert');\n",
              "        buttonEl.style.display =\n",
              "          google.colab.kernel.accessAllowed ? 'block' : 'none';\n",
              "\n",
              "        async function convertToInteractive(key) {\n",
              "          const element = document.querySelector('#df-de077442-8bca-422d-8e2a-8ed98e098a19');\n",
              "          const dataTable =\n",
              "            await google.colab.kernel.invokeFunction('convertToInteractive',\n",
              "                                                     [key], {});\n",
              "          if (!dataTable) return;\n",
              "\n",
              "          const docLinkHtml = 'Like what you see? Visit the ' +\n",
              "            '<a target=\"_blank\" href=https://colab.research.google.com/notebooks/data_table.ipynb>data table notebook</a>'\n",
              "            + ' to learn more about interactive tables.';\n",
              "          element.innerHTML = '';\n",
              "          dataTable['output_type'] = 'display_data';\n",
              "          await google.colab.output.renderOutput(dataTable, element);\n",
              "          const docLink = document.createElement('div');\n",
              "          docLink.innerHTML = docLinkHtml;\n",
              "          element.appendChild(docLink);\n",
              "        }\n",
              "      </script>\n",
              "    </div>\n",
              "  </div>\n",
              "  "
            ]
          },
          "metadata": {},
          "execution_count": 145
        }
      ]
    },
    {
      "cell_type": "code",
      "source": [
        "\n"
      ],
      "metadata": {
        "colab": {
          "base_uri": "https://localhost:8080/"
        },
        "id": "qOPNZ3jaB32r",
        "outputId": "63651a88-1304-410f-8d85-56ce54320ba6"
      },
      "execution_count": null,
      "outputs": [
        {
          "output_type": "stream",
          "name": "stderr",
          "text": [
            "/usr/local/lib/python3.7/dist-packages/sklearn/utils/validation.py:1692: FutureWarning: Feature names only support names that are all strings. Got feature names with dtypes: ['tuple']. An error will be raised in 1.2.\n",
            "  FutureWarning,\n"
          ]
        }
      ]
    },
    {
      "cell_type": "code",
      "source": [
        "from sklearn.metrics import balanced_accuracy_score\n",
        "accuracy=balanced_accuracy_score(y_pred, y_test)\n",
        "print('LightGBM Model accuracy score: {0:0.4f}'.format(balanced_accuracy_score(y_test, y_pred)))"
      ],
      "metadata": {
        "id": "hMjZgOfZMjqQ"
      },
      "execution_count": null,
      "outputs": []
    },
    {
      "cell_type": "code",
      "source": [
        "\n",
        "\n",
        "from sklearn.ensemble import RandomForestClassifier\n",
        "from sklearn import svm, tree\n",
        "import xgboost\n",
        "from catboost import CatBoostClassifier\n",
        "\n",
        "\n"
      ],
      "metadata": {
        "id": "-D9Rel8G2x7k"
      },
      "execution_count": null,
      "outputs": []
    },
    {
      "cell_type": "code",
      "source": [
        "classifiers=[]\n",
        "'''model1 = xgboost.XGBClassifier()\n",
        "\n",
        "classifiers.append(model1)'''\n",
        "model2 = svm.SVC()\n",
        "classifiers.append(model2)\n",
        "model3 = tree.DecisionTreeClassifier()\n",
        "classifiers.append(model3)\n",
        "model4 = RandomForestClassifier()\n",
        "classifiers.append(model4)"
      ],
      "metadata": {
        "id": "-jICDfm5RFES"
      },
      "execution_count": null,
      "outputs": []
    },
    {
      "cell_type": "code",
      "source": [
        "from sklearn.metrics import balanced_accuracy_score\n",
        "for clf in classifiers:\n",
        "    clf.fit(X_train, y_train)\n",
        "    y_pred= clf.predict(X_test)\n",
        "    acc = balanced_accuracy_score(y_test, y_pred)\n",
        "    print(\"Accuracy of %s is %s\"%(clf, acc))\n"
      ],
      "metadata": {
        "id": "iLjvT70KRQEh"
      },
      "execution_count": null,
      "outputs": []
    },
    {
      "cell_type": "code",
      "source": [
        "acc = balanced_accuracy_score(y_test, y_pred)\n",
        "print(\"Accuracy of %s is %s\"%(clf, acc))"
      ],
      "metadata": {
        "id": "7POF7br_SzT5"
      },
      "execution_count": null,
      "outputs": []
    },
    {
      "cell_type": "markdown",
      "metadata": {
        "id": "WKlTuZpd2ydI"
      },
      "source": [
        "# ,\n",
        "<h1>                <center>  submet file </center></h1>\n",
        "# ,"
      ]
    },
    {
      "cell_type": "code",
      "source": [
        "y_pred1 =svc.predict(test_data)"
      ],
      "metadata": {
        "id": "srzHRCNf2zOU"
      },
      "execution_count": null,
      "outputs": []
    },
    {
      "cell_type": "code",
      "source": [
        "test_data[\"accident_type\"] = y_pred1\n",
        "submission = pd.DataFrame(data={'trustii_id': test_data[\"trustii_id\"], 'accident_type': test_data[\"accident_type\"]})\n",
        "submission.to_csv('sub_waicf_rusboost.csv', index=False)"
      ],
      "metadata": {
        "id": "Wnrskd8323iU"
      },
      "execution_count": null,
      "outputs": []
    },
    {
      "cell_type": "code",
      "source": [],
      "metadata": {
        "id": "ipKujvTh3g2l"
      },
      "execution_count": null,
      "outputs": []
    },
    {
      "cell_type": "code",
      "source": [],
      "metadata": {
        "id": "MXc06n70K5q6"
      },
      "execution_count": null,
      "outputs": []
    }
  ]
}